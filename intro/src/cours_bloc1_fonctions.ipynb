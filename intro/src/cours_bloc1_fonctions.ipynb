{
 "cells": [
  {
   "cell_type": "markdown",
   "metadata": {},
   "source": [
    "# Fonctions\n",
    "\n",
    "## 1. Définition  \n",
    "Dans un programme informatique, on peut être amené à faire plusieurs fois les mêmes calculs, ou à exécuter plusieurs fois les mêmes instructions. Afin de ne pas répéter inutilement les lignes de code associées, il est possible de créer une fonction qu'il suffira d'appeler dès que nous en aurons besoin.\n",
    "Par exemple, le dessin d'un cercle correspond à une série d'instructions où on calcule les positions des points du cercle, que l'on affiche ensuite. Ainsi le dessin d'un cercle rouge de rayon 50 centré en (20;34) ou d'un cercle jaune de rayon 10 centré en (200;150) correspondra à la même série d'instructions. Cela pourra être réalisé par l'intermédiaire de la même fonction, avec des paramètres d'entrées différents : la couleur, le rayon et les coordonnées du centre.\n",
    "\n",
    "Une fonction est caractérisée par trois choses :  \n",
    "1. son nom.\n",
    "2. les paramètres d'entrée, facultatifs, appelés aussi arguments d'entrée.\n",
    "3. le traitement effectué à l'intérieur de la fonction, qui peut donner lieu à un retour de valeur(s).\n",
    "  \n",
    "**Exemple**  \n",
    "En Python, une fonction s'écrit avec le mot clé `def`, et peut renvoyer une valeur avec le mot clé `return` :\n",
    "```python\n",
    "def aire_triangle(b,h):\n",
    "      aire = (b*h)/2\n",
    "      return aire\n",
    "```\n",
    "Cette fonction s'appelle `aire_triangle`. Elle a deux paramètres en entrée (`b` et `h`, pour la base et la hauteur du triangle). Elle calcule l'aire correspondante, puis la renvoie sous forme numérique.  \n",
    "\n",
    "**Remarques**\n",
    "\n",
    "- Définir une fonction ne suffit pas. C'est comme une recette de gâteau, pour obtenir un gâteau il faut utiliser la recette. Pour utiliser une fonction, il faut l'appeler plus tard dans le programme.\n",
    "- Nous avons déjà fait appel à des fonctions, définies au préalable dans des bibliothèques (`print`,`input`,`range` par exemple).\n",
    "  \n",
    "**Exemple**\n",
    "Tester le programme suivant. Changer la valeur des paramètres d'entrée, et vérifier que le résultat est correct."
   ]
  },
  {
   "cell_type": "code",
   "execution_count": 20,
   "metadata": {},
   "outputs": [
    {
     "data": {
      "text/plain": [
       "4.0"
      ]
     },
     "execution_count": 20,
     "metadata": {},
     "output_type": "execute_result"
    }
   ],
   "source": [
    "# Définition de la fonction\n",
    "def aire_triangle(b,h):\n",
    "      aire = (b*h)/2\n",
    "      return aire\n",
    "# Appel de la fonction\n",
    "aire_triangle(10,0.8)"
   ]
  },
  {
   "cell_type": "markdown",
   "metadata": {},
   "source": [
    "## 2. Portée d'une variable \n",
    "Les variables utilisées dans le corps de la fonction sont locales, c'est-à-dire qu'elles n'existent qu'à l'intérieur de la fonction. En dehors de la fonction, une variable locale n'est pas définie.  \n",
    "Exécuter le programme suivant et commenter le résultat affiché."
   ]
  },
  {
   "cell_type": "code",
   "execution_count": 32,
   "metadata": {},
   "outputs": [
    {
     "name": "stdout",
     "output_type": "stream",
     "text": [
      "4.0\n",
      "12\n"
     ]
    }
   ],
   "source": [
    "# Définition de la fonction\n",
    "def aire_triangle(b,h):\n",
    "      aire = (b*h)/2\n",
    "      return aire\n",
    "# Appel de la fonction\n",
    "print(aire_triangle(10,0.8))\n",
    "print(aire)"
   ]
  },
  {
   "cell_type": "markdown",
   "metadata": {},
   "source": [
    "**Remarque**  \n",
    "Il est possible qu'une variable à l'extérieur d'une fonction ait le même nom qu'une variable locale. Dans ce cas, ce sont deux variables distinctes. Le programme suivant en donne un exemple."
   ]
  },
  {
   "cell_type": "code",
   "execution_count": 28,
   "metadata": {},
   "outputs": [
    {
     "name": "stdout",
     "output_type": "stream",
     "text": [
      "4.0\n",
      "12\n"
     ]
    }
   ],
   "source": [
    "aire = 12\n",
    "# Définition de la fonction\n",
    "def aire_triangle(b,h):\n",
    "      aire = (b*h)/2\n",
    "      return aire\n",
    "# Appel de la fonction\n",
    "print(aire_triangle(10,0.8))\n",
    "print(aire)"
   ]
  },
  {
   "cell_type": "markdown",
   "metadata": {},
   "source": [
    "**Remarque**  \n",
    "\n",
    "- L'instruction return interrompt le déroulement de la fonction dès qu'elle est exécutée.\n",
    "- Le nom des fonctions obéit aux mêmes règles que celui des variables : pas d'espace !"
   ]
  },
  {
   "cell_type": "code",
   "execution_count": 29,
   "metadata": {},
   "outputs": [
    {
     "name": "stdout",
     "output_type": "stream",
     "text": [
      "1\n",
      "2\n"
     ]
    },
    {
     "data": {
      "text/plain": [
       "3"
      ]
     },
     "execution_count": 29,
     "metadata": {},
     "output_type": "execute_result"
    }
   ],
   "source": [
    "def pasdechance():\n",
    "    print(1)\n",
    "    print(2)\n",
    "    return 3\n",
    "    print(4)\n",
    "    return 5\n",
    "pasdechance()"
   ]
  },
  {
   "cell_type": "markdown",
   "metadata": {},
   "source": [
    "**Exercice**  \n",
    "Un vidéaste web a constaté qu'il gagnait 7% de followers chaque mois. Au 1er septembre 2018, il en compte 129 000. Il voudrait savoir quand il dépassera le million de followers. Pour cela, il a écrit un petit programme avec une boucle while, mais il lui manque la fonction calcul_mois_suivant. À vous d'identifier ses caractéristiques et de l'écrire."
   ]
  },
  {
   "cell_type": "code",
   "execution_count": 19,
   "metadata": {},
   "outputs": [
    {
     "ename": "NameError",
     "evalue": "name 'calcul_mois_suivant' is not defined",
     "output_type": "error",
     "traceback": [
      "\u001b[1;31m---------------------------------------------------------------------------\u001b[0m",
      "\u001b[1;31mNameError\u001b[0m                                 Traceback (most recent call last)",
      "\u001b[1;32m<ipython-input-19-192b76f434fe>\u001b[0m in \u001b[0;36m<module>\u001b[1;34m()\u001b[0m\n\u001b[0;32m      7\u001b[0m \u001b[0mmois\u001b[0m \u001b[1;33m=\u001b[0m \u001b[1;36m0\u001b[0m\u001b[1;33m\u001b[0m\u001b[0m\n\u001b[0;32m      8\u001b[0m \u001b[1;32mwhile\u001b[0m \u001b[1;33m(\u001b[0m\u001b[0mnb_followers\u001b[0m \u001b[1;33m<\u001b[0m \u001b[1;36m1000000\u001b[0m\u001b[1;33m)\u001b[0m\u001b[1;33m:\u001b[0m\u001b[1;33m\u001b[0m\u001b[0m\n\u001b[1;32m----> 9\u001b[1;33m     \u001b[0mnb_followers\u001b[0m \u001b[1;33m=\u001b[0m \u001b[0mcalcul_mois_suivant\u001b[0m\u001b[1;33m(\u001b[0m\u001b[0mnb_followers\u001b[0m\u001b[1;33m)\u001b[0m\u001b[1;33m\u001b[0m\u001b[0m\n\u001b[0m\u001b[0;32m     10\u001b[0m     \u001b[0mmois\u001b[0m \u001b[1;33m=\u001b[0m \u001b[0mmois\u001b[0m \u001b[1;33m+\u001b[0m \u001b[1;36m1\u001b[0m\u001b[1;33m\u001b[0m\u001b[0m\n\u001b[0;32m     11\u001b[0m \u001b[0mprint\u001b[0m\u001b[1;33m(\u001b[0m\u001b[0mnb_followers\u001b[0m\u001b[1;33m,\u001b[0m\u001b[0mmois\u001b[0m\u001b[1;33m)\u001b[0m\u001b[1;33m\u001b[0m\u001b[0m\n",
      "\u001b[1;31mNameError\u001b[0m: name 'calcul_mois_suivant' is not defined"
     ]
    }
   ],
   "source": [
    "# Fonction calcul_mois_suivant\n",
    "...\n",
    "...\n",
    "...\n",
    "# programme principal\n",
    "nb_followers = 129000\n",
    "mois = 0\n",
    "while (nb_followers < 1000000):\n",
    "    nb_followers = calcul_mois_suivant(nb_followers)\n",
    "    mois = mois + 1\n",
    "print(nb_followers,mois)"
   ]
  },
  {
   "cell_type": "markdown",
   "metadata": {},
   "source": [
    "**Attention**  \n",
    "Certains types de données n'obéissent pas aux règles des variables locales et peuvent être modifiés par une fonction. C'est le cas des listes, illustré par l'exemple suivant."
   ]
  },
  {
   "cell_type": "code",
   "execution_count": 31,
   "metadata": {},
   "outputs": [
    {
     "name": "stdout",
     "output_type": "stream",
     "text": [
      "[13, 9, 16, 19, 5]\n"
     ]
    },
    {
     "ename": "NameError",
     "evalue": "name 'liste' is not defined",
     "output_type": "error",
     "traceback": [
      "\u001b[1;31m---------------------------------------------------------------------------\u001b[0m",
      "\u001b[1;31mNameError\u001b[0m                                 Traceback (most recent call last)",
      "\u001b[1;32m<ipython-input-31-c2191dd5ab95>\u001b[0m in \u001b[0;36m<module>\u001b[1;34m()\u001b[0m\n\u001b[0;32m     12\u001b[0m \u001b[0mprint\u001b[0m\u001b[1;33m(\u001b[0m\u001b[0mnotes\u001b[0m\u001b[1;33m)\u001b[0m\u001b[1;33m\u001b[0m\u001b[0m\n\u001b[0;32m     13\u001b[0m \u001b[1;31m# la liste \"liste\" n'existe plus en dehors de la fonction\u001b[0m\u001b[1;33m\u001b[0m\u001b[1;33m\u001b[0m\u001b[0m\n\u001b[1;32m---> 14\u001b[1;33m \u001b[0mprint\u001b[0m\u001b[1;33m(\u001b[0m\u001b[0mliste\u001b[0m\u001b[1;33m)\u001b[0m\u001b[1;33m\u001b[0m\u001b[0m\n\u001b[0m",
      "\u001b[1;31mNameError\u001b[0m: name 'liste' is not defined"
     ]
    }
   ],
   "source": [
    "# liste de notes\n",
    "notes = [12,8,15,18,4]\n",
    "\n",
    "# définition de la fonction plusun()\n",
    "def plusun(liste):\n",
    "    for i in range(len(liste)):\n",
    "        liste[i] += 1\n",
    "        \n",
    "# appel de la fonction\n",
    "plusun(notes)\n",
    "# la liste notes a été modifiée par la fonction\n",
    "print(notes)\n",
    "# la liste \"liste\" n'existe plus en dehors de la fonction\n",
    "print(liste)"
   ]
  },
  {
   "cell_type": "markdown",
   "metadata": {},
   "source": [
    "**Notions avancées**  \n",
    "Les types de données qui se comportent comme les listes sont dits _mutables_, les autres, comme les entiers ou les flottants sont dits immuables."
   ]
  },
  {
   "cell_type": "code",
   "execution_count": null,
   "metadata": {
    "collapsed": true
   },
   "outputs": [],
   "source": []
  }
 ],
 "metadata": {
  "kernelspec": {
   "display_name": "Python 3",
   "language": "python",
   "name": "python3"
  },
  "language_info": {
   "codemirror_mode": {
    "name": "ipython",
    "version": 3
   },
   "file_extension": ".py",
   "mimetype": "text/x-python",
   "name": "python",
   "nbconvert_exporter": "python",
   "pygments_lexer": "ipython3",
   "version": "3.5.3"
  }
 },
 "nbformat": 4,
 "nbformat_minor": 2
}
