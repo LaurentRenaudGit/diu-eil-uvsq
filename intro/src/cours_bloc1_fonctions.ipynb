{
 "cells": [
  {
   "cell_type": "markdown",
   "metadata": {},
   "source": [
    "# Fonctions\n",
    "\n",
    "## 1. Définition  \n",
    "Dans un programme informatique, on peut être amené à faire plusieurs fois les mêmes calculs, ou à exécuter plusieurs fois les mêmes instructions. Afin de ne pas répéter inutilement les lignes de code associées, il est possible de créer une fonction qu'il suffira d'appeler dès que nous en aurons besoin.\n",
    "Par exemple, le dessin d'un cercle correspond à une série d'instructions simples :\n",
    "> On calcule les positions des points du cercle.  \n",
    "> On affiche les points.  \n",
    "\n",
    "Ainsi le dessin d'un cercle rouge de rayon 50 centré en (20;34) et celui d'un cercle jaune de rayon 10 centré en (200;150) corresponent à la même série d'instructions. Cela pourra être réalisé par l'intermédiaire de la même fonction, avec des paramètres d'entrées différents : la couleur, le rayon et les coordonnées du centre.\n",
    "\n",
    "Une fonction est caractérisée par trois choses :  \n",
    "1. son nom.\n",
    "2. les paramètres d'entrée, facultatifs, appelés aussi arguments d'entrée.\n",
    "3. le traitement effectué à l'intérieur de la fonction, qui peut donner lieu à un retour de valeur(s).\n",
    "  \n",
    "**Exemple**  \n",
    "En Python, une fonction s'écrit avec le mot clé `def`, et peut renvoyer une valeur avec le mot clé `return` :\n",
    "```python\n",
    "def aire_triangle(b,h):\n",
    "      aire = (b*h)/2\n",
    "      return aire\n",
    "```\n",
    "Cette fonction s'appelle `aire_triangle`. Elle a deux paramètres en entrée (`b` et `h`, pour la base et la hauteur du triangle). Elle calcule l'aire correspondante, puis la renvoie sous forme numérique.  \n",
    "\n",
    "**Remarques**\n",
    "\n",
    "- Définir une fonction ne suffit pas. C'est comme une recette de gâteau, pour obtenir un gâteau il faut utiliser la recette. Pour utiliser une fonction, il faut l'appeler plus tard dans le programme.\n",
    "- Nous avons déjà fait appel à des fonctions, définies au préalable dans des bibliothèques (`print`,`input`,`range` par exemple).\n",
    "  \n",
    "**Exemple**  \n",
    "Tester le programme suivant. Changer la valeur des paramètres d'entrée, et vérifier que le résultat est correct."
   ]
  },
  {
   "cell_type": "code",
   "execution_count": null,
   "metadata": {},
   "outputs": [],
   "source": [
    "# Définition de la fonction\n",
    "def aire_triangle(b,h):\n",
    "      aire = (b*h)/2\n",
    "      return aire\n",
    "# Appel de la fonction\n",
    "aire_triangle(10,0.8)"
   ]
  },
  {
   "cell_type": "markdown",
   "metadata": {},
   "source": [
    "## 2. Portée d'une variable \n",
    "Les variables utilisées dans le corps de la fonction sont locales, c'est-à-dire qu'elles n'existent qu'à l'intérieur de la fonction. En dehors de la fonction, une variable locale n'est pas définie.  \n",
    "Exécuter le programme suivant et commenter le résultat affiché."
   ]
  },
  {
   "cell_type": "code",
   "execution_count": null,
   "metadata": {},
   "outputs": [],
   "source": [
    "# Définition de la fonction\n",
    "def aire_triangle(b,h):\n",
    "      aire = (b*h)/2\n",
    "      return aire\n",
    "# Appel de la fonction\n",
    "print(aire_triangle(10,0.8))\n",
    "print(aire)"
   ]
  },
  {
   "cell_type": "markdown",
   "metadata": {},
   "source": [
    "**Remarque**  \n",
    "Il est possible qu'une variable à l'extérieur d'une fonction ait le même nom qu'une variable locale. Dans ce cas, ce sont deux variables distinctes. Le programme suivant en donne un exemple."
   ]
  },
  {
   "cell_type": "code",
   "execution_count": null,
   "metadata": {},
   "outputs": [],
   "source": [
    "aire = 12\n",
    "# Définition de la fonction\n",
    "def aire_triangle(b,h):\n",
    "      aire = (b*h)/2\n",
    "      return aire\n",
    "# Appel de la fonction\n",
    "print(aire_triangle(10,0.8))\n",
    "print(aire)"
   ]
  },
  {
   "cell_type": "markdown",
   "metadata": {},
   "source": [
    "**Remarque**  \n",
    "\n",
    "- Le nom des fonctions obéit aux mêmes règles que celui des variables : pas d'espace !\n",
    "- L'instruction `return` interrompt le déroulement de la fonction dès qu'elle est exécutée."
   ]
  },
  {
   "cell_type": "code",
   "execution_count": null,
   "metadata": {},
   "outputs": [],
   "source": [
    "def pasdechance():\n",
    "    print(1)\n",
    "    print(2)\n",
    "    return 3\n",
    "    print(4)\n",
    "    return 5\n",
    "pasdechance()"
   ]
  },
  {
   "cell_type": "markdown",
   "metadata": {},
   "source": [
    "**Exercice**  \n",
    "Un vidéaste web a constaté qu'il gagnait 7% de followers chaque mois. Au 1er septembre 2018, il en compte 129 000. Il voudrait savoir quand il dépassera le million de followers. Pour cela, il a écrit un petit programme avec une boucle while, mais il lui manque la fonction calcul_mois_suivant. À vous d'identifier ses caractéristiques et de l'écrire."
   ]
  },
  {
   "cell_type": "code",
   "execution_count": null,
   "metadata": {},
   "outputs": [],
   "source": [
    "# Fonction calcul_mois_suivant\n",
    "...\n",
    "...\n",
    "...\n",
    "# programme principal\n",
    "nb_followers = 129000\n",
    "mois = 0\n",
    "while (nb_followers < 1000000):\n",
    "    nb_followers = calcul_mois_suivant(nb_followers)\n",
    "    mois = mois + 1\n",
    "print(nb_followers,mois)"
   ]
  },
  {
   "cell_type": "markdown",
   "metadata": {},
   "source": [
    "**Attention**  \n",
    "Certains types de données n'obéissent pas aux règles des variables locales et peuvent être modifiés par une fonction. C'est le cas des listes, illustré par l'exemple suivant."
   ]
  },
  {
   "cell_type": "code",
   "execution_count": null,
   "metadata": {},
   "outputs": [],
   "source": [
    "# liste de notes\n",
    "notes = [12,8,15,18,4]\n",
    "\n",
    "# définition de la fonction plusun()\n",
    "def plusun(liste):\n",
    "    for i in range(len(liste)):\n",
    "        liste[i] += 1\n",
    "        \n",
    "# appel de la fonction\n",
    "plusun(notes)\n",
    "# la liste notes a été modifiée par la fonction\n",
    "print(notes)\n",
    "# la liste \"liste\" n'existe plus en dehors de la fonction\n",
    "print(liste)"
   ]
  },
  {
   "cell_type": "markdown",
   "metadata": {},
   "source": [
    "**Notions avancées**  \n",
    "Les types de données qui se comportent comme les listes sont dits _mutables_, les autres, comme les entiers ou les flottants sont dits _immuables_."
   ]
  },
  {
   "cell_type": "markdown",
   "metadata": {
    "collapsed": true
   },
   "source": [
    "## 3. Paramètres par défaut\n",
    "\n",
    "Quand on définit une fonction, il est possible de donner une valeur par défaut à un paramètre. Ainsi, si l'on n'a pas besoin de modifier cette valeur, on peut appeler la fonction sans spécifier ce paramètre. Dans le cas où on veut donner une valeur différente à ce paramètre d'entrée, il suffit de le spécifier dans l'appel de la fonction, de façon classique.  \n",
    "L'exemple suivant présente la syntaxe à utiliser, et les différents cas possibles."
   ]
  },
  {
   "cell_type": "code",
   "execution_count": null,
   "metadata": {},
   "outputs": [],
   "source": [
    "def affiche(debut, nb=1, fin=\"!\"):\n",
    "    print( nb*\"#\" + debut + fin)\n",
    "        \n",
    "affiche(\"Texte 1\")\n",
    "affiche(\"Texte 2\", 4)\n",
    "affiche(\"Texte 3\", 10)\n",
    "affiche(\"Texte 4\", 0, \"?\")\n",
    "# on veut laisser à nb sa valeur par défaut, mais spécifier une valeur différente de ! pour fin.\n",
    "# il faut nécessairement écrire fin=\"?\"\n",
    "affiche(\"Texte 5\", fin=\"...\")\n",
    "# la preuve par l'échec\n",
    "affiche(\"Texte 6\", \"...\")"
   ]
  },
  {
   "cell_type": "markdown",
   "metadata": {},
   "source": [
    "**Exercice**  \n",
    "On désire disposer d'une fonction calculant l'aire d'un cercle, en passant en paramètres :  \n",
    "> le rayon  \n",
    "> une valeur approchée de pi, avec 3.14 comme valeur par défaut \n",
    "\n",
    "Compléter le programme suivant afin que les appels à la fonction `aire_cercle` s'exécute correctement."
   ]
  },
  {
   "cell_type": "code",
   "execution_count": null,
   "metadata": {},
   "outputs": [],
   "source": [
    "# Fonction\n",
    "...\n",
    "...\n",
    "# Programme principal\n",
    "rayon = 10\n",
    "# appel de la fonction aire_cercle avec une valeur de pi par défaut\n",
    "aire = aire_cercle(rayon)\n",
    "print(\"Un cercle de rayon \"+str(rayon)+\" a pour aire \"+str(aire)+\".\")\n",
    "rayon = 5.3\n",
    "# appel de la fonction aire_cercle avec une valeur de pi plus précise\n",
    "aire = aire_cercle(rayon,3.141592)\n",
    "print(\"Un cercle de rayon \"+str(rayon)+\" a pour aire \"+str(aire)+\".\")"
   ]
  },
  {
   "cell_type": "code",
   "execution_count": null,
   "metadata": {
    "collapsed": true
   },
   "outputs": [],
   "source": []
  }
 ],
 "metadata": {
  "kernelspec": {
   "display_name": "Python 3",
   "language": "python",
   "name": "python3"
  },
  "language_info": {
   "codemirror_mode": {
    "name": "ipython",
    "version": 3
   },
   "file_extension": ".py",
   "mimetype": "text/x-python",
   "name": "python",
   "nbconvert_exporter": "python",
   "pygments_lexer": "ipython3",
   "version": "3.5.3"
  }
 },
 "nbformat": 4,
 "nbformat_minor": 2
}
