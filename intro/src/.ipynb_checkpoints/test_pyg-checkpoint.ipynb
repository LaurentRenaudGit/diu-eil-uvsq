{
 "cells": [
  {
   "cell_type": "code",
   "execution_count": 3,
   "metadata": {},
   "outputs": [
    {
     "name": "stdout",
     "output_type": "stream",
     "text": [
      "= PyGraphics v1.0rc=\n",
      "Création d'une fenêtre de 200x200\n"
     ]
    }
   ],
   "source": [
    "from pyg import *\n",
    "L=200\n",
    "H=200\n",
    "R=50\n",
    "fenetre(L,H,\"Test\")\n",
    "A=POINT(L/2,H/2)\n",
    "v=POINT(5,3)\n",
    "while True:\n",
    "    remplir(noir)\n",
    "    cercle_plein(A,R,rouge)\n",
    "    A += v\n",
    "    if A.x+R >= L:\n",
    "        A.x = L-R-1\n",
    "        v.x = -v.x\n",
    "    if A.x-R < 0:\n",
    "        A.x = R\n",
    "        v.x = -v.x\n",
    "    if A.y+R >= H:\n",
    "        A.y = H-R-1\n",
    "        v.y = -v.y\n",
    "    if A.y-R < 0:\n",
    "        A.y = R\n",
    "        v.y = -v.y\n",
    "    attendre(20)\n",
    "quit()"
   ]
  },
  {
   "cell_type": "code",
   "execution_count": null,
   "metadata": {},
   "outputs": [],
   "source": []
  }
 ],
 "metadata": {
  "kernelspec": {
   "display_name": "Python 3",
   "language": "python",
   "name": "python3"
  },
  "language_info": {
   "codemirror_mode": {
    "name": "ipython",
    "version": 3
   },
   "file_extension": ".py",
   "mimetype": "text/x-python",
   "name": "python",
   "nbconvert_exporter": "python",
   "pygments_lexer": "ipython3",
   "version": "3.7.3"
  }
 },
 "nbformat": 4,
 "nbformat_minor": 2
}
