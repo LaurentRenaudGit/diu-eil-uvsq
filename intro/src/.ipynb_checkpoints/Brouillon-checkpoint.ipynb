{
 "cells": [
  {
   "cell_type": "code",
   "execution_count": 16,
   "metadata": {},
   "outputs": [
    {
     "name": "stdout",
     "output_type": "stream",
     "text": [
      "#Texte 1\n",
      "####Texte 2\n",
      "##########Texte 3\n",
      "#Texte 4\n",
      "Texte 5\n"
     ]
    }
   ],
   "source": [
    "def affiche(debut, nb=1):\n",
    "    print( nb*\"#\" + texte)\n",
    "        \n",
    "affiche(\"Texte 1\")\n",
    "affiche(\"Texte 2\", 4)\n",
    "affiche(\"Texte 3\", 10)\n",
    "affiche(\"Texte 4\")\n",
    "affiche(\"Texte 5\", 0)"
   ]
  },
  {
   "cell_type": "code",
   "execution_count": null,
   "metadata": {},
   "outputs": [],
   "source": []
  }
 ],
 "metadata": {
  "kernelspec": {
   "display_name": "Python 3",
   "language": "python",
   "name": "python3"
  },
  "language_info": {
   "codemirror_mode": {
    "name": "ipython",
    "version": 3
   },
   "file_extension": ".py",
   "mimetype": "text/x-python",
   "name": "python",
   "nbconvert_exporter": "python",
   "pygments_lexer": "ipython3",
   "version": "3.7.3"
  }
 },
 "nbformat": 4,
 "nbformat_minor": 2
}
